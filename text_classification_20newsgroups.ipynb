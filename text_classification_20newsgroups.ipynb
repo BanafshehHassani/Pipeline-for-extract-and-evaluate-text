{
  "nbformat": 4,
  "nbformat_minor": 0,
  "metadata": {
    "colab": {
      "provenance": [],
      "authorship_tag": "ABX9TyPlP+bmy2g8ooISyBjBzb3N",
      "include_colab_link": true
    },
    "kernelspec": {
      "name": "python3",
      "display_name": "Python 3"
    },
    "language_info": {
      "name": "python"
    }
  },
  "cells": [
    {
      "cell_type": "markdown",
      "metadata": {
        "id": "view-in-github",
        "colab_type": "text"
      },
      "source": [
        "<a href=\"https://colab.research.google.com/github/BanafshehHassani/Pipeline-for-extract-and-evaluate-text/blob/main/text_classification_20newsgroups.ipynb\" target=\"_parent\"><img src=\"https://colab.research.google.com/assets/colab-badge.svg\" alt=\"Open In Colab\"/></a>"
      ]
    },
    {
      "cell_type": "markdown",
      "source": [
        "Project: Text Classification Using SGDClassifier and GridSearchCV\n",
        "\n",
        "Author: [Banafsheh Hassani](https://www.linkedin.com/in/banafsheh-hassani-7b063a129/)\n",
        "\n",
        "This project involves loading a subset of the 20 Newsgroups dataset,\n",
        "\n",
        "performing text feature extraction and using a SGDClassifier to classify the documents.\n",
        "The project also uses GridSearchCV to optimize the parameters of the text feature extraction\n",
        "and the classifier."
      ],
      "metadata": {
        "id": "XND8AbLI-TGc"
      }
    },
    {
      "cell_type": "code",
      "execution_count": 2,
      "metadata": {
        "colab": {
          "base_uri": "https://localhost:8080/"
        },
        "id": "38adpTqJ4lKe",
        "outputId": "0c926eaf-c955-4e45-855a-8b48a66e38c7"
      },
      "outputs": [
        {
          "output_type": "stream",
          "name": "stdout",
          "text": [
            "Loading 20 newsgroups dataset for categories:\n",
            "['alt.atheism', 'talk.religion.misc']\n",
            "857 documents\n",
            "2 categories\n",
            "\n",
            "Performing grid search...\n",
            "pipeline: ['vect', 'tfidf', 'clf']\n",
            "parameters:\n",
            "{'clf__alpha': (1e-05, 1e-06),\n",
            " 'clf__max_iter': (20,),\n",
            " 'clf__penalty': ('l2', 'elasticnet'),\n",
            " 'vect__max_df': (0.5, 0.75, 1.0),\n",
            " 'vect__ngram_range': ((1, 1), (1, 2))}\n",
            "Fitting 5 folds for each of 24 candidates, totalling 120 fits\n",
            "done in 74.518s\n",
            "\n",
            "Best score: 0.957\n",
            "Best parameters set:\n",
            "\tclf__alpha: 1e-05\n",
            "\tclf__max_iter: 20\n",
            "\tclf__penalty: 'elasticnet'\n",
            "\tvect__max_df: 0.5\n",
            "\tvect__ngram_range: (1, 2)\n"
          ]
        }
      ],
      "source": [
        "# Importing the necessary libraries\n",
        "%matplotlib inline\n",
        "from pprint import pprint\n",
        "from time import time\n",
        "import logging\n",
        "from sklearn.datasets import fetch_20newsgroups\n",
        "from sklearn.feature_extraction.text import CountVectorizer\n",
        "from sklearn.feature_extraction.text import TfidfTransformer\n",
        "from sklearn.linear_model import SGDClassifier\n",
        "from sklearn.model_selection import GridSearchCV\n",
        "from sklearn.pipeline import Pipeline\n",
        "\n",
        "# Enable logging for the pipeline\n",
        "logging.basicConfig(level=logging.INFO, format='%(asctime)s %(levelname)s %(message)s')\n",
        "\n",
        "# Define the categories to load from the dataset\n",
        "categories = ['alt.atheism', 'talk.religion.misc']\n",
        "\n",
        "# Load the 20 newsgroups dataset for these categories\n",
        "print(\"Loading 20 newsgroups dataset for categories:\")\n",
        "print(categories)\n",
        "data = fetch_20newsgroups(subset='train', categories=categories)\n",
        "print(\"%d documents\" % len(data.filenames))\n",
        "print(\"%d categories\" % len(data.target_names))\n",
        "print()\n",
        "\n",
        "# Define the pipeline combining the text feature extractor with the classifier\n",
        "pipeline = Pipeline([\n",
        "    ('vect', CountVectorizer()),\n",
        "    ('tfidf', TfidfTransformer()),\n",
        "    ('clf', SGDClassifier()),\n",
        "])\n",
        "\n",
        "# Define the parameters for GridSearchCV\n",
        "parameters = {\n",
        "    'vect__max_df': (0.5, 0.75, 1.0),\n",
        "    'vect__ngram_range': ((1, 1), (1, 2)),  # unigrams or bigrams\n",
        "    'clf__max_iter': (20,),\n",
        "    'clf__alpha': (0.00001, 0.000001),\n",
        "    'clf__penalty': ('l2', 'elasticnet'),\n",
        "}\n",
        "\n",
        "# Perform grid search to find the best parameters for the feature extraction and the classifier\n",
        "if __name__ == \"__main__\":\n",
        "    grid_search = GridSearchCV(pipeline, parameters, n_jobs=-1, verbose=1)\n",
        "\n",
        "    print(\"Performing grid search...\")\n",
        "    print(\"pipeline:\", [name for name, _ in pipeline.steps])\n",
        "    print(\"parameters:\")\n",
        "    pprint(parameters)\n",
        "    t0 = time()\n",
        "    grid_search.fit(data.data, data.target)\n",
        "    print(\"done in %0.3fs\" % (time() - t0))\n",
        "    print()\n",
        "\n",
        "    print(\"Best score: %0.3f\" % grid_search.best_score_)\n",
        "    print(\"Best parameters set:\")\n",
        "    best_parameters = grid_search.best_estimator_.get_params()\n",
        "    for param_name in sorted(parameters.keys()):\n",
        "        print(\"\\t%s: %r\" % (param_name, best_parameters[param_name]))\n"
      ]
    }
  ]
}